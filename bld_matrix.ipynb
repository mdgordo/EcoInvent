{
 "cells": [
  {
   "cell_type": "markdown",
   "metadata": {},
   "source": [
    "Creating EcoInvent Matrix from .spold files<br>\n",
    "See: https://v34.ecoquery.ecoinvent.org/File/Files\n",
    "<br>\n",
    "<br>\n",
    "At bottom in supporting documents there are instructions for matrix building from spold<br>\n",
    "First download and unzip relevant system files - you may need a .7z to zip file converter"
   ]
  },
  {
   "cell_type": "code",
   "execution_count": 1,
   "metadata": {
    "collapsed": true
   },
   "outputs": [],
   "source": [
    "import os\n",
    "import xml.etree.ElementTree as ET\n",
    "import numpy as np\n",
    "import scipy as sp\n",
    "import pandas as pd\n",
    "from scipy import sparse\n",
    "from scipy.sparse import coo_matrix\n",
    "from scipy.sparse.linalg import inv\n",
    "from numpy.linalg import inv"
   ]
  },
  {
   "cell_type": "markdown",
   "metadata": {},
   "source": [
    "First navigate to the appropriate folder - should be something like ~/Documents/D/Ecoinvent/ecoinvent-3.4_cutoff_ecoSpold02/"
   ]
  },
  {
   "cell_type": "code",
   "execution_count": 2,
   "metadata": {
    "collapsed": true
   },
   "outputs": [],
   "source": [
    "os.chdir(\"datasets\")\n",
    "dir = os.getcwd()"
   ]
  },
  {
   "cell_type": "markdown",
   "metadata": {},
   "source": [
    "Change file extensions from .spold to .xml"
   ]
  },
  {
   "cell_type": "code",
   "execution_count": 3,
   "metadata": {
    "collapsed": true
   },
   "outputs": [],
   "source": [
    "for f in os.listdir():\n",
    "    if f.endswith('.spold'):\n",
    "        base = os.path.splitext(f)[0]\n",
    "        target = os.path.join(dir, f)\n",
    "        f = os.rename(target, base + '.xml')"
   ]
  },
  {
   "cell_type": "markdown",
   "metadata": {},
   "source": [
    "Parse each file using ElementTree, extract key attributes as described in step 1 in the Ecoinvent documentation and put them in a dataframe. This is the index for the technosphere exchanges."
   ]
  },
  {
   "cell_type": "code",
   "execution_count": 4,
   "metadata": {
    "collapsed": true
   },
   "outputs": [],
   "source": [
    "colnames = ['act_id', 'ref_id', 'act_name', 'ref_name', 'geog']\n",
    "idx = pd.DataFrame(data=[], index=list(range(0,len(os.listdir()))), columns=colnames)\n",
    "for i in range(0, len(os.listdir())):\n",
    "    fname = os.listdir()[i]\n",
    "    base = os.path.splitext(fname)[0]\n",
    "    actid = base.split(\"_\")[0]\n",
    "    idx.loc[i]['act_id'] = actid\n",
    "    refid = base.split(\"_\")[1]\n",
    "    idx.loc[i]['ref_id'] = refid\n",
    "    tree = ET.parse(os.listdir()[i])\n",
    "    root = tree.getroot()\n",
    "    for activityName in root.iter('{http://www.EcoInvent.org/EcoSpold02}activityName'):\n",
    "        idx.loc[i]['act_name'] = activityName.text   \n",
    "    for geog in root.findall('.//{http://www.EcoInvent.org/EcoSpold02}geography/{http://www.EcoInvent.org/EcoSpold02}shortname'):\n",
    "        idx.loc[i]['geog'] = geog.text\n",
    "    for rf in root.findall(\".//{http://www.EcoInvent.org/EcoSpold02}intermediateExchange[@intermediateExchangeId='%s']/{http://www.EcoInvent.org/EcoSpold02}name\" % refid):\n",
    "        idx.loc[i]['ref_name'] = rf.text\n",
    "    del tree\n",
    "    del root\n",
    "    del actid\n",
    "    del refid\n",
    "    del fname"
   ]
  },
  {
   "cell_type": "markdown",
   "metadata": {},
   "source": [
    "Check to make sure it looks right:"
   ]
  },
  {
   "cell_type": "code",
   "execution_count": 5,
   "metadata": {},
   "outputs": [
    {
     "data": {
      "text/html": [
       "<div>\n",
       "<style>\n",
       "    .dataframe thead tr:only-child th {\n",
       "        text-align: right;\n",
       "    }\n",
       "\n",
       "    .dataframe thead th {\n",
       "        text-align: left;\n",
       "    }\n",
       "\n",
       "    .dataframe tbody tr th {\n",
       "        vertical-align: top;\n",
       "    }\n",
       "</style>\n",
       "<table border=\"1\" class=\"dataframe\">\n",
       "  <thead>\n",
       "    <tr style=\"text-align: right;\">\n",
       "      <th></th>\n",
       "      <th>act_id</th>\n",
       "      <th>ref_id</th>\n",
       "      <th>act_name</th>\n",
       "      <th>ref_name</th>\n",
       "      <th>geog</th>\n",
       "    </tr>\n",
       "  </thead>\n",
       "  <tbody>\n",
       "    <tr>\n",
       "      <th>0</th>\n",
       "      <td>c276df5a-9f59-4304-a25d-5d33d07303e9</td>\n",
       "      <td>88afd721-07ec-4910-a004-fa3fecb6bf70</td>\n",
       "      <td>clinker production</td>\n",
       "      <td>waste plastic, mixture</td>\n",
       "      <td>US</td>\n",
       "    </tr>\n",
       "    <tr>\n",
       "      <th>1</th>\n",
       "      <td>679932c4-15f4-46d0-82e0-e126ee6ccb05</td>\n",
       "      <td>d69294d7-8d64-4915-a896-9996a014c410</td>\n",
       "      <td>electricity voltage transformation from medium...</td>\n",
       "      <td>electricity, low voltage</td>\n",
       "      <td>SA</td>\n",
       "    </tr>\n",
       "    <tr>\n",
       "      <th>2</th>\n",
       "      <td>4c99ba2a-d1e2-4c41-910d-6ce77382db63</td>\n",
       "      <td>91667712-8403-49bd-95be-c929b47067c2</td>\n",
       "      <td>market for transport, freight, sea, transocean...</td>\n",
       "      <td>transport, freight, sea, transoceanic ship</td>\n",
       "      <td>GLO</td>\n",
       "    </tr>\n",
       "    <tr>\n",
       "      <th>3</th>\n",
       "      <td>8fdf3ecb-6c94-4731-bca6-3cc2a5d6796b</td>\n",
       "      <td>0dab73c6-b214-4e9c-8c38-ab49d608637b</td>\n",
       "      <td>market for protein pea</td>\n",
       "      <td>protein pea</td>\n",
       "      <td>GLO</td>\n",
       "    </tr>\n",
       "    <tr>\n",
       "      <th>4</th>\n",
       "      <td>7fc96034-d15c-4ac1-b183-89c346a72821</td>\n",
       "      <td>cbcd0e88-5e08-4e2a-8353-ae6a4ba53ce2</td>\n",
       "      <td>market for photovoltaic mounting system, for 5...</td>\n",
       "      <td>photovoltaic mounting system, for 570kWp open ...</td>\n",
       "      <td>GLO</td>\n",
       "    </tr>\n",
       "  </tbody>\n",
       "</table>\n",
       "</div>"
      ],
      "text/plain": [
       "                                 act_id                                ref_id  \\\n",
       "0  c276df5a-9f59-4304-a25d-5d33d07303e9  88afd721-07ec-4910-a004-fa3fecb6bf70   \n",
       "1  679932c4-15f4-46d0-82e0-e126ee6ccb05  d69294d7-8d64-4915-a896-9996a014c410   \n",
       "2  4c99ba2a-d1e2-4c41-910d-6ce77382db63  91667712-8403-49bd-95be-c929b47067c2   \n",
       "3  8fdf3ecb-6c94-4731-bca6-3cc2a5d6796b  0dab73c6-b214-4e9c-8c38-ab49d608637b   \n",
       "4  7fc96034-d15c-4ac1-b183-89c346a72821  cbcd0e88-5e08-4e2a-8353-ae6a4ba53ce2   \n",
       "\n",
       "                                            act_name  \\\n",
       "0                                 clinker production   \n",
       "1  electricity voltage transformation from medium...   \n",
       "2  market for transport, freight, sea, transocean...   \n",
       "3                             market for protein pea   \n",
       "4  market for photovoltaic mounting system, for 5...   \n",
       "\n",
       "                                            ref_name geog  \n",
       "0                             waste plastic, mixture   US  \n",
       "1                           electricity, low voltage   SA  \n",
       "2         transport, freight, sea, transoceanic ship  GLO  \n",
       "3                                        protein pea  GLO  \n",
       "4  photovoltaic mounting system, for 570kWp open ...  GLO  "
      ]
     },
     "execution_count": 5,
     "metadata": {},
     "output_type": "execute_result"
    }
   ],
   "source": [
    "idx.head(5)"
   ]
  },
  {
   "cell_type": "markdown",
   "metadata": {},
   "source": [
    "Now navigate to Elementary Exchanges file to build an index for the elemental exchanges. This time there is only one file."
   ]
  },
  {
   "cell_type": "code",
   "execution_count": 6,
   "metadata": {
    "collapsed": true
   },
   "outputs": [],
   "source": [
    "os.chdir(\"..\")\n",
    "os.chdir(\"MasterData\")"
   ]
  },
  {
   "cell_type": "code",
   "execution_count": 7,
   "metadata": {
    "collapsed": true
   },
   "outputs": [],
   "source": [
    "tree = ET.parse('ElementaryExchanges.xml')\n",
    "root = tree.getroot()\n",
    "colnames = ['elex_id', 'subc_id', 'elex_name', 'comp_name', 'subc_name']\n",
    "L = len(root.findall(\".//{http://www.EcoInvent.org/EcoSpold02}elementaryExchange\"))\n",
    "elemidx = pd.DataFrame(data=[], index=list(range(0,L)), columns=colnames)"
   ]
  },
  {
   "cell_type": "code",
   "execution_count": 8,
   "metadata": {
    "collapsed": true
   },
   "outputs": [],
   "source": [
    "x = [None]*L\n",
    "for i, elex in enumerate(root.iter('{http://www.EcoInvent.org/EcoSpold02}elementaryExchange')):\n",
    "    x[i] = elex.attrib['id']\n",
    "elemidx['elex_id'] = x\n",
    "for i, subc in enumerate(root.findall('.//{http://www.EcoInvent.org/EcoSpold02}elementaryExchange/{http://www.EcoInvent.org/EcoSpold02}compartment')):\n",
    "    x[i] = subc.attrib['subcompartmentId']\n",
    "elemidx['subc_id'] = x\n",
    "for i, lname in enumerate(root.iter('{http://www.EcoInvent.org/EcoSpold02}name')):\n",
    "    x[i] = lname.text\n",
    "elemidx['elex_name'] = x\n",
    "for i, comp in enumerate(root.findall('.//{http://www.EcoInvent.org/EcoSpold02}elementaryExchange/{http://www.EcoInvent.org/EcoSpold02}compartment/{http://www.EcoInvent.org/EcoSpold02}compartment')):\n",
    "    x[i] = comp.text\n",
    "elemidx['comp_name'] = x\n",
    "for i, sname in enumerate(root.iter('{http://www.EcoInvent.org/EcoSpold02}subcompartment')):\n",
    "    x[i] = sname.text\n",
    "elemidx['subc_name'] = x"
   ]
  },
  {
   "cell_type": "markdown",
   "metadata": {},
   "source": [
    "Check to make sure it looks right:"
   ]
  },
  {
   "cell_type": "code",
   "execution_count": 9,
   "metadata": {},
   "outputs": [
    {
     "data": {
      "text/html": [
       "<div>\n",
       "<style>\n",
       "    .dataframe thead tr:only-child th {\n",
       "        text-align: right;\n",
       "    }\n",
       "\n",
       "    .dataframe thead th {\n",
       "        text-align: left;\n",
       "    }\n",
       "\n",
       "    .dataframe tbody tr th {\n",
       "        vertical-align: top;\n",
       "    }\n",
       "</style>\n",
       "<table border=\"1\" class=\"dataframe\">\n",
       "  <thead>\n",
       "    <tr style=\"text-align: right;\">\n",
       "      <th></th>\n",
       "      <th>elex_id</th>\n",
       "      <th>subc_id</th>\n",
       "      <th>elex_name</th>\n",
       "      <th>comp_name</th>\n",
       "      <th>subc_name</th>\n",
       "    </tr>\n",
       "  </thead>\n",
       "  <tbody>\n",
       "    <tr>\n",
       "      <th>0</th>\n",
       "      <td>38a622c6-f086-4763-a952-7c6b3b1c42ba</td>\n",
       "      <td>e8d7772c-55ca-4dd7-b605-fee5ae764578</td>\n",
       "      <td>1,4-Butanediol</td>\n",
       "      <td>air</td>\n",
       "      <td>urban air close to ground</td>\n",
       "    </tr>\n",
       "    <tr>\n",
       "      <th>1</th>\n",
       "      <td>541a823c-0aad-4dc4-9123-d4af4647d942</td>\n",
       "      <td>e8d7772c-55ca-4dd7-b605-fee5ae764578</td>\n",
       "      <td>1-Pentanol</td>\n",
       "      <td>air</td>\n",
       "      <td>urban air close to ground</td>\n",
       "    </tr>\n",
       "    <tr>\n",
       "      <th>2</th>\n",
       "      <td>8cbaa905-41b0-4327-8403-bf1c8eb25429</td>\n",
       "      <td>e8d7772c-55ca-4dd7-b605-fee5ae764578</td>\n",
       "      <td>1-Pentene</td>\n",
       "      <td>air</td>\n",
       "      <td>urban air close to ground</td>\n",
       "    </tr>\n",
       "    <tr>\n",
       "      <th>3</th>\n",
       "      <td>f681eb3c-854a-4f78-bcfe-76dfbcf9df3c</td>\n",
       "      <td>e1bc9a16-5b6a-494f-98ef-49f461b1a11e</td>\n",
       "      <td>2,4-D</td>\n",
       "      <td>soil</td>\n",
       "      <td>agricultural</td>\n",
       "    </tr>\n",
       "    <tr>\n",
       "      <th>4</th>\n",
       "      <td>a0fec60d-3f74-48bf-a2d2-58c30fc13e53</td>\n",
       "      <td>e8d7772c-55ca-4dd7-b605-fee5ae764578</td>\n",
       "      <td>2-Aminopropanol</td>\n",
       "      <td>air</td>\n",
       "      <td>urban air close to ground</td>\n",
       "    </tr>\n",
       "  </tbody>\n",
       "</table>\n",
       "</div>"
      ],
      "text/plain": [
       "                                elex_id                               subc_id  \\\n",
       "0  38a622c6-f086-4763-a952-7c6b3b1c42ba  e8d7772c-55ca-4dd7-b605-fee5ae764578   \n",
       "1  541a823c-0aad-4dc4-9123-d4af4647d942  e8d7772c-55ca-4dd7-b605-fee5ae764578   \n",
       "2  8cbaa905-41b0-4327-8403-bf1c8eb25429  e8d7772c-55ca-4dd7-b605-fee5ae764578   \n",
       "3  f681eb3c-854a-4f78-bcfe-76dfbcf9df3c  e1bc9a16-5b6a-494f-98ef-49f461b1a11e   \n",
       "4  a0fec60d-3f74-48bf-a2d2-58c30fc13e53  e8d7772c-55ca-4dd7-b605-fee5ae764578   \n",
       "\n",
       "         elex_name comp_name                  subc_name  \n",
       "0   1,4-Butanediol       air  urban air close to ground  \n",
       "1       1-Pentanol       air  urban air close to ground  \n",
       "2        1-Pentene       air  urban air close to ground  \n",
       "3            2,4-D      soil               agricultural  \n",
       "4  2-Aminopropanol       air  urban air close to ground  "
      ]
     },
     "execution_count": 9,
     "metadata": {},
     "output_type": "execute_result"
    }
   ],
   "source": [
    "elemidx.head(5)"
   ]
  },
  {
   "cell_type": "markdown",
   "metadata": {},
   "source": [
    "We now have 2 index dataframes, elemidx for the elemental flows and idx for the technosphere inputs and outputs. Now we have to build the actual matrices: The A (technology) matrix, and the B (elementary flow) matrix. First create two matrices of zeros of the appropriate size."
   ]
  },
  {
   "cell_type": "code",
   "execution_count": 10,
   "metadata": {
    "collapsed": true
   },
   "outputs": [],
   "source": [
    "A = np.zeros((len(idx),len(idx)))\n",
    "B = np.zeros((len(elemidx),len(idx)))"
   ]
  },
  {
   "cell_type": "markdown",
   "metadata": {},
   "source": [
    "Now we need to parse each of the spold files to find the coefficients, and put them in the right place in the matrix based on their index numbers. First navigate back to the datasets folder."
   ]
  },
  {
   "cell_type": "code",
   "execution_count": 11,
   "metadata": {
    "collapsed": true
   },
   "outputs": [],
   "source": [
    "os.chdir(\"..\")\n",
    "os.chdir(\"datasets\")"
   ]
  },
  {
   "cell_type": "markdown",
   "metadata": {},
   "source": [
    "Next, open each file, parse the tree, identify the correct column in the matrix, find the coefficients and put them in. Off diagonal coefficients in the A matrix are multiplied by -1 as described in the EcoInvent documentation."
   ]
  },
  {
   "cell_type": "code",
   "execution_count": 49,
   "metadata": {},
   "outputs": [],
   "source": [
    "delerrs = []\n",
    "ers = []\n",
    "for i in range(0, len(os.listdir())):\n",
    "    fname = os.listdir()[i]\n",
    "    base = os.path.splitext(fname)[0]\n",
    "    actid = base.split(\"_\")[0]\n",
    "    refid = base.split(\"_\")[1]\n",
    "    tree = ET.parse(os.listdir()[i])\n",
    "    root = tree.getroot()\n",
    "    try:\n",
    "        for IE in root.findall(\".//{http://www.EcoInvent.org/EcoSpold02}intermediateExchange[@intermediateExchangeId='%s']\" % refid):\n",
    "            amt = float(IE.attrib['amount'])\n",
    "        q = idx.index.values[(idx['act_id']==actid) & (idx['ref_id']==refid)]  ##this is the column index for A and B matrices\n",
    "        q = q[0] \n",
    "        A[q][q] = amt  ## place the reference flow on the diagonal\n",
    "\n",
    "        ## create some temporary empty lists\n",
    "        k = []\n",
    "        l = []  \n",
    "        m = []\n",
    "        n = []\n",
    "        o = []\n",
    "        p = []\n",
    "        r = []\n",
    "        s = []\n",
    "        t = []\n",
    "        u = []\n",
    "        v = []\n",
    "        z = []\n",
    "\n",
    "        ## populate the A matrix\n",
    "        for j, IE in enumerate(root.findall(\".//{http://www.EcoInvent.org/EcoSpold02}intermediateExchange[@activityLinkId]/[{http://www.EcoInvent.org/EcoSpold02}inputGroup='5']\")):\n",
    "                k.append(IE.attrib['intermediateExchangeId'])\n",
    "                l.append(IE.attrib['activityLinkId'])\n",
    "                w = idx.index.values[(idx['act_id']==l[j]) & (idx['ref_id']==k[j])] ## find index for the intermediate exchange\n",
    "                m.append(w[0])\n",
    "                n.append(-1*float(IE.attrib['amount'])) ## multiply coefficient by -1\n",
    "        qc = A[:,q]\n",
    "        np.put(qc, m, n)\n",
    "        A[:,q] = qc\n",
    "\n",
    "        ## populate the B matrix\n",
    "        # input group 4\n",
    "        for LX in root.findall(\".//{http://www.EcoInvent.org/EcoSpold02}elementaryExchange/[{http://www.EcoInvent.org/EcoSpold02}inputGroup='4']\"):\n",
    "            o.append(LX.attrib['elementaryExchangeId'])\n",
    "            p.append(float(LX.attrib['amount']))    \n",
    "        for LXc in root.findall(\".//{http://www.EcoInvent.org/EcoSpold02}elementaryExchange/[{http://www.EcoInvent.org/EcoSpold02}inputGroup='4']/{http://www.EcoInvent.org/EcoSpold02}compartment\"):       \n",
    "            r.append(LXc.attrib['subcompartmentId'])\n",
    "        for j, match in enumerate(o):\n",
    "            w = elemidx.index.values[(elemidx['elex_id']==o[j]) & (elemidx['subc_id']==r[j])]\n",
    "            s.append(w[0])\n",
    "        #output group 4\n",
    "        for LX in root.findall(\".//{http://www.EcoInvent.org/EcoSpold02}elementaryExchange/[{http://www.EcoInvent.org/EcoSpold02}outputGroup='4']\"):\n",
    "            t.append(LX.attrib['elementaryExchangeId'])\n",
    "            u.append(float(LX.attrib['amount']))    \n",
    "        for LXc in root.findall(\".//{http://www.EcoInvent.org/EcoSpold02}elementaryExchange/[{http://www.EcoInvent.org/EcoSpold02}outputGroup='4']/{http://www.EcoInvent.org/EcoSpold02}compartment\"):       \n",
    "            v.append(LXc.attrib['subcompartmentId'])\n",
    "        for j, match in enumerate(t):\n",
    "            w = elemidx.index.values[(elemidx['elex_id']==t[j]) & (elemidx['subc_id']==v[j])]\n",
    "            z.append(w[0])\n",
    "        qb = B[:,q]\n",
    "        np.put(qb, s, p)\n",
    "        np.put(qb, z, u)\n",
    "        B[:,q] = qb\n",
    "\n",
    "        ## clear the temporary variables\n",
    "        try:\n",
    "            del tree\n",
    "            del root\n",
    "            del actid\n",
    "            del refid\n",
    "            del k\n",
    "            del l\n",
    "            del m\n",
    "            del n\n",
    "            del w\n",
    "            del o \n",
    "            del p\n",
    "            del r\n",
    "            del s\n",
    "            del t\n",
    "            del u\n",
    "            del v\n",
    "            del z\n",
    "            del qc\n",
    "            del qb\n",
    "        except NameError:\n",
    "            delerrs.append(i)\n",
    "    except IndexError:\n",
    "        ers.append(i)"
   ]
  },
  {
   "cell_type": "code",
   "execution_count": 99,
   "metadata": {},
   "outputs": [
    {
     "data": {
      "text/plain": [
       "[84,\n",
       " 444,\n",
       " 562,\n",
       " 1056,\n",
       " 1254,\n",
       " 2712,\n",
       " 2759,\n",
       " 2770,\n",
       " 2841,\n",
       " 2906,\n",
       " 2927,\n",
       " 2947,\n",
       " 3105,\n",
       " 3292,\n",
       " 3374,\n",
       " 3665,\n",
       " 3799,\n",
       " 3936,\n",
       " 4128,\n",
       " 4769,\n",
       " 5140,\n",
       " 5569,\n",
       " 5845,\n",
       " 5879,\n",
       " 6620,\n",
       " 6686,\n",
       " 6746,\n",
       " 6778,\n",
       " 7032,\n",
       " 7443,\n",
       " 7944,\n",
       " 8107,\n",
       " 8149,\n",
       " 8168,\n",
       " 8610,\n",
       " 9186,\n",
       " 9240,\n",
       " 9387,\n",
       " 9615,\n",
       " 9777,\n",
       " 9809,\n",
       " 9940,\n",
       " 10428,\n",
       " 10603,\n",
       " 10680,\n",
       " 10772,\n",
       " 10810,\n",
       " 10865,\n",
       " 11419,\n",
       " 11514,\n",
       " 11520,\n",
       " 11535,\n",
       " 11807,\n",
       " 11883,\n",
       " 11948,\n",
       " 12239,\n",
       " 12629,\n",
       " 12631,\n",
       " 12807,\n",
       " 12823,\n",
       " 12947,\n",
       " 13347,\n",
       " 14072,\n",
       " 14217,\n",
       " 14284,\n",
       " 14317,\n",
       " 14447]"
      ]
     },
     "execution_count": 99,
     "metadata": {},
     "output_type": "execute_result"
    }
   ],
   "source": [
    "ers"
   ]
  },
  {
   "cell_type": "code",
   "execution_count": 100,
   "metadata": {},
   "outputs": [
    {
     "data": {
      "text/plain": [
       "[252,\n",
       " 779,\n",
       " 817,\n",
       " 1484,\n",
       " 1710,\n",
       " 1730,\n",
       " 1818,\n",
       " 1851,\n",
       " 1929,\n",
       " 2302,\n",
       " 2518,\n",
       " 2631,\n",
       " 3413,\n",
       " 3582,\n",
       " 3713,\n",
       " 3741,\n",
       " 3814,\n",
       " 3943,\n",
       " 4864,\n",
       " 4905,\n",
       " 5372,\n",
       " 5465,\n",
       " 5492,\n",
       " 5916,\n",
       " 5923,\n",
       " 5939,\n",
       " 6121,\n",
       " 6323,\n",
       " 6572,\n",
       " 7436,\n",
       " 7534,\n",
       " 7657,\n",
       " 7955,\n",
       " 8012,\n",
       " 8115,\n",
       " 8432,\n",
       " 8444,\n",
       " 8646,\n",
       " 8726,\n",
       " 9136,\n",
       " 9887,\n",
       " 10570,\n",
       " 11193,\n",
       " 11981,\n",
       " 12019,\n",
       " 12668,\n",
       " 12719,\n",
       " 12721,\n",
       " 12843,\n",
       " 12883,\n",
       " 13248,\n",
       " 13265,\n",
       " 13652,\n",
       " 13806,\n",
       " 14189,\n",
       " 14558,\n",
       " 14611]"
      ]
     },
     "execution_count": 100,
     "metadata": {},
     "output_type": "execute_result"
    }
   ],
   "source": [
    "delerrs"
   ]
  },
  {
   "cell_type": "markdown",
   "metadata": {
    "collapsed": true
   },
   "source": [
    "Here is a sample calculation to determine the LCIA of one unit of protein pea production in the RoW geography:"
   ]
  },
  {
   "cell_type": "code",
   "execution_count": 17,
   "metadata": {
    "collapsed": true
   },
   "outputs": [],
   "source": [
    "A_sp = sp.sparse.coo_matrix(A)"
   ]
  },
  {
   "cell_type": "code",
   "execution_count": 13,
   "metadata": {
    "collapsed": true
   },
   "outputs": [],
   "source": [
    "f = np.zeros(len(A))"
   ]
  },
  {
   "cell_type": "code",
   "execution_count": 25,
   "metadata": {},
   "outputs": [
    {
     "data": {
      "text/html": [
       "<div>\n",
       "<style>\n",
       "    .dataframe thead tr:only-child th {\n",
       "        text-align: right;\n",
       "    }\n",
       "\n",
       "    .dataframe thead th {\n",
       "        text-align: left;\n",
       "    }\n",
       "\n",
       "    .dataframe tbody tr th {\n",
       "        vertical-align: top;\n",
       "    }\n",
       "</style>\n",
       "<table border=\"1\" class=\"dataframe\">\n",
       "  <thead>\n",
       "    <tr style=\"text-align: right;\">\n",
       "      <th></th>\n",
       "      <th>act_id</th>\n",
       "      <th>ref_id</th>\n",
       "      <th>act_name</th>\n",
       "      <th>ref_name</th>\n",
       "      <th>geog</th>\n",
       "    </tr>\n",
       "  </thead>\n",
       "  <tbody>\n",
       "    <tr>\n",
       "      <th>0</th>\n",
       "      <td>c276df5a-9f59-4304-a25d-5d33d07303e9</td>\n",
       "      <td>1f41586d-0d8a-4c7c-8473-dd8351bab538</td>\n",
       "      <td>clinker production</td>\n",
       "      <td>clinker</td>\n",
       "      <td>US</td>\n",
       "    </tr>\n",
       "    <tr>\n",
       "      <th>1980</th>\n",
       "      <td>579b42bb-0d42-46de-88c6-89960b0543e0</td>\n",
       "      <td>1f41586d-0d8a-4c7c-8473-dd8351bab538</td>\n",
       "      <td>clinker production</td>\n",
       "      <td>clinker</td>\n",
       "      <td>US</td>\n",
       "    </tr>\n",
       "    <tr>\n",
       "      <th>2809</th>\n",
       "      <td>bda249e8-b0bb-49bd-b7b5-6d42d8b693f6</td>\n",
       "      <td>1f41586d-0d8a-4c7c-8473-dd8351bab538</td>\n",
       "      <td>clinker production</td>\n",
       "      <td>clinker</td>\n",
       "      <td>US</td>\n",
       "    </tr>\n",
       "    <tr>\n",
       "      <th>3790</th>\n",
       "      <td>f76277c9-4bd2-4d45-8560-210ff34ba76b</td>\n",
       "      <td>1f41586d-0d8a-4c7c-8473-dd8351bab538</td>\n",
       "      <td>clinker production</td>\n",
       "      <td>clinker</td>\n",
       "      <td>US</td>\n",
       "    </tr>\n",
       "    <tr>\n",
       "      <th>7171</th>\n",
       "      <td>65995787-8263-4cff-bfe9-8be179d86aca</td>\n",
       "      <td>1f41586d-0d8a-4c7c-8473-dd8351bab538</td>\n",
       "      <td>clinker production</td>\n",
       "      <td>clinker</td>\n",
       "      <td>US</td>\n",
       "    </tr>\n",
       "    <tr>\n",
       "      <th>7855</th>\n",
       "      <td>62fb3e9e-4053-4291-87c0-874dd45294f5</td>\n",
       "      <td>1f41586d-0d8a-4c7c-8473-dd8351bab538</td>\n",
       "      <td>clinker production</td>\n",
       "      <td>clinker</td>\n",
       "      <td>US</td>\n",
       "    </tr>\n",
       "    <tr>\n",
       "      <th>9677</th>\n",
       "      <td>f8c9ece5-ce33-4b78-a2d8-70f7df7806ae</td>\n",
       "      <td>1f41586d-0d8a-4c7c-8473-dd8351bab538</td>\n",
       "      <td>clinker production</td>\n",
       "      <td>clinker</td>\n",
       "      <td>US</td>\n",
       "    </tr>\n",
       "    <tr>\n",
       "      <th>9753</th>\n",
       "      <td>38affb53-b4c0-4dc1-9f74-ba507d35a2ef</td>\n",
       "      <td>1f41586d-0d8a-4c7c-8473-dd8351bab538</td>\n",
       "      <td>clinker production</td>\n",
       "      <td>clinker</td>\n",
       "      <td>US</td>\n",
       "    </tr>\n",
       "    <tr>\n",
       "      <th>10352</th>\n",
       "      <td>0681ddc2-1a75-40ab-8d6e-5d28197f0249</td>\n",
       "      <td>1f41586d-0d8a-4c7c-8473-dd8351bab538</td>\n",
       "      <td>clinker production</td>\n",
       "      <td>clinker</td>\n",
       "      <td>US</td>\n",
       "    </tr>\n",
       "    <tr>\n",
       "      <th>13902</th>\n",
       "      <td>972c31d6-a4af-41fa-b922-cf27753d9b20</td>\n",
       "      <td>1f41586d-0d8a-4c7c-8473-dd8351bab538</td>\n",
       "      <td>clinker production</td>\n",
       "      <td>clinker</td>\n",
       "      <td>US</td>\n",
       "    </tr>\n",
       "    <tr>\n",
       "      <th>14070</th>\n",
       "      <td>c31bd438-24f9-4006-b9be-d9ac647fa0ff</td>\n",
       "      <td>1f41586d-0d8a-4c7c-8473-dd8351bab538</td>\n",
       "      <td>clinker production</td>\n",
       "      <td>clinker</td>\n",
       "      <td>US</td>\n",
       "    </tr>\n",
       "    <tr>\n",
       "      <th>14528</th>\n",
       "      <td>aba33910-8f8f-4d0c-a87b-4b5a4975cc92</td>\n",
       "      <td>1f41586d-0d8a-4c7c-8473-dd8351bab538</td>\n",
       "      <td>clinker production</td>\n",
       "      <td>clinker</td>\n",
       "      <td>US</td>\n",
       "    </tr>\n",
       "  </tbody>\n",
       "</table>\n",
       "</div>"
      ],
      "text/plain": [
       "                                     act_id  \\\n",
       "0      c276df5a-9f59-4304-a25d-5d33d07303e9   \n",
       "1980   579b42bb-0d42-46de-88c6-89960b0543e0   \n",
       "2809   bda249e8-b0bb-49bd-b7b5-6d42d8b693f6   \n",
       "3790   f76277c9-4bd2-4d45-8560-210ff34ba76b   \n",
       "7171   65995787-8263-4cff-bfe9-8be179d86aca   \n",
       "7855   62fb3e9e-4053-4291-87c0-874dd45294f5   \n",
       "9677   f8c9ece5-ce33-4b78-a2d8-70f7df7806ae   \n",
       "9753   38affb53-b4c0-4dc1-9f74-ba507d35a2ef   \n",
       "10352  0681ddc2-1a75-40ab-8d6e-5d28197f0249   \n",
       "13902  972c31d6-a4af-41fa-b922-cf27753d9b20   \n",
       "14070  c31bd438-24f9-4006-b9be-d9ac647fa0ff   \n",
       "14528  aba33910-8f8f-4d0c-a87b-4b5a4975cc92   \n",
       "\n",
       "                                     ref_id            act_name ref_name geog  \n",
       "0      1f41586d-0d8a-4c7c-8473-dd8351bab538  clinker production  clinker   US  \n",
       "1980   1f41586d-0d8a-4c7c-8473-dd8351bab538  clinker production  clinker   US  \n",
       "2809   1f41586d-0d8a-4c7c-8473-dd8351bab538  clinker production  clinker   US  \n",
       "3790   1f41586d-0d8a-4c7c-8473-dd8351bab538  clinker production  clinker   US  \n",
       "7171   1f41586d-0d8a-4c7c-8473-dd8351bab538  clinker production  clinker   US  \n",
       "7855   1f41586d-0d8a-4c7c-8473-dd8351bab538  clinker production  clinker   US  \n",
       "9677   1f41586d-0d8a-4c7c-8473-dd8351bab538  clinker production  clinker   US  \n",
       "9753   1f41586d-0d8a-4c7c-8473-dd8351bab538  clinker production  clinker   US  \n",
       "10352  1f41586d-0d8a-4c7c-8473-dd8351bab538  clinker production  clinker   US  \n",
       "13902  1f41586d-0d8a-4c7c-8473-dd8351bab538  clinker production  clinker   US  \n",
       "14070  1f41586d-0d8a-4c7c-8473-dd8351bab538  clinker production  clinker   US  \n",
       "14528  1f41586d-0d8a-4c7c-8473-dd8351bab538  clinker production  clinker   US  "
      ]
     },
     "execution_count": 25,
     "metadata": {},
     "output_type": "execute_result"
    }
   ],
   "source": [
    "i = idx.index[(idx['ref_name']=='clinker')&(idx['geog']=='US')]\n",
    "idx.iloc[i]"
   ]
  },
  {
   "cell_type": "code",
   "execution_count": 15,
   "metadata": {
    "collapsed": true
   },
   "outputs": [],
   "source": [
    "np.put(f,[3,6],1)"
   ]
  },
  {
   "cell_type": "code",
   "execution_count": null,
   "metadata": {
    "collapsed": true
   },
   "outputs": [],
   "source": [
    "s = sp.sparse.linalg.gmres(A_sp, f)"
   ]
  },
  {
   "cell_type": "code",
   "execution_count": null,
   "metadata": {
    "collapsed": true
   },
   "outputs": [],
   "source": [
    "g = np.matmul(B, s)"
   ]
  },
  {
   "cell_type": "code",
   "execution_count": null,
   "metadata": {
    "collapsed": true
   },
   "outputs": [],
   "source": []
  }
 ],
 "metadata": {
  "kernelspec": {
   "display_name": "Python 3",
   "language": "python",
   "name": "python3"
  },
  "language_info": {
   "codemirror_mode": {
    "name": "ipython",
    "version": 3
   },
   "file_extension": ".py",
   "mimetype": "text/x-python",
   "name": "python",
   "nbconvert_exporter": "python",
   "pygments_lexer": "ipython3",
   "version": "3.6.2"
  }
 },
 "nbformat": 4,
 "nbformat_minor": 2
}
