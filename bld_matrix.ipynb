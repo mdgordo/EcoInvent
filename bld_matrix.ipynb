{
 "cells": [
  {
   "cell_type": "markdown",
   "metadata": {},
   "source": [
    "Creating EcoInvent Matrix from .spold files<br>\n",
    "See: https://v34.ecoquery.ecoinvent.org/File/Files\n",
    "<br>\n",
    "<br>\n",
    "At bottom in supporting documents there are instructions for matrix building from spold<br>\n",
    "First download and unzip relevant system files - you may need a .7z to zip file converter"
   ]
  },
  {
   "cell_type": "code",
   "execution_count": 2,
   "metadata": {
    "collapsed": true
   },
   "outputs": [],
   "source": [
    "import os\n",
    "import xml.etree.ElementTree as ET\n",
    "import numpy as np\n",
    "import scipy as sp\n",
    "import pandas as pd\n",
    "from scipy import sparse\n",
    "from scipy.sparse import coo_matrix\n",
    "from scipy.sparse.linalg import inv\n",
    "from numpy.linalg import inv"
   ]
  },
  {
   "cell_type": "markdown",
   "metadata": {},
   "source": [
    "First navigate to the appropriate folder - should be something like ~/Documents/D/Ecoinvent/ecoinvent-3.4_cutoff_ecoSpold02/"
   ]
  },
  {
   "cell_type": "code",
   "execution_count": 8,
   "metadata": {
    "collapsed": true
   },
   "outputs": [],
   "source": [
    "os.chdir(\"datasets\")\n",
    "dir = os.getcwd()"
   ]
  },
  {
   "cell_type": "markdown",
   "metadata": {},
   "source": [
    "Change file extensions from .spold to .xml"
   ]
  },
  {
   "cell_type": "code",
   "execution_count": 10,
   "metadata": {
    "collapsed": true
   },
   "outputs": [],
   "source": [
    "for f in os.listdir():\n",
    "    if f.endswith('.spold'):\n",
    "        base = os.path.splitext(f)[0]\n",
    "        target = os.path.join(dir, f)\n",
    "        f = os.rename(target, base + '.xml')"
   ]
  },
  {
   "cell_type": "markdown",
   "metadata": {},
   "source": [
    "Parse each file using ElementTree, extract key attributes as described in step 1 in the Ecoinvent documentation and put them in a dataframe. This is the index for the technosphere exchanges."
   ]
  },
  {
   "cell_type": "code",
   "execution_count": 11,
   "metadata": {
    "collapsed": true
   },
   "outputs": [],
   "source": [
    "colnames = ['act_id', 'ref_id', 'act_name', 'ref_name', 'geog']\n",
    "idx = pd.DataFrame(data=[], index=list(range(0,len(os.listdir()))), columns=colnames)\n",
    "for i in range(0, len(os.listdir())):\n",
    "    fname = os.listdir()[i]\n",
    "    base = os.path.splitext(fname)[0]\n",
    "    actid = base.split(\"_\")[0]\n",
    "    idx.loc[i]['act_id'] = actid\n",
    "    refid = base.split(\"_\")[1]\n",
    "    idx.loc[i]['ref_id'] = refid\n",
    "    tree = ET.parse(os.listdir()[i])\n",
    "    root = tree.getroot()\n",
    "    for activityName in root.iter('{http://www.EcoInvent.org/EcoSpold02}activityName'):\n",
    "        idx.loc[i]['act_name'] = activityName.text   \n",
    "    for geog in root.findall('.//{http://www.EcoInvent.org/EcoSpold02}geography/{http://www.EcoInvent.org/EcoSpold02}shortname'):\n",
    "        idx.loc[i]['geog'] = geog.text\n",
    "    for rf in root.findall(\".//{http://www.EcoInvent.org/EcoSpold02}intermediateExchange[@intermediateExchangeId='%s']/{http://www.EcoInvent.org/EcoSpold02}name\" % refid):\n",
    "        idx.loc[i]['ref_name'] = rf.text\n",
    "    del tree\n",
    "    del root\n",
    "    del actid\n",
    "    del refid\n",
    "    del fname"
   ]
  },
  {
   "cell_type": "markdown",
   "metadata": {},
   "source": [
    "Check to make sure it looks right:"
   ]
  },
  {
   "cell_type": "code",
   "execution_count": 12,
   "metadata": {},
   "outputs": [
    {
     "data": {
      "text/html": [
       "<div>\n",
       "<style>\n",
       "    .dataframe thead tr:only-child th {\n",
       "        text-align: right;\n",
       "    }\n",
       "\n",
       "    .dataframe thead th {\n",
       "        text-align: left;\n",
       "    }\n",
       "\n",
       "    .dataframe tbody tr th {\n",
       "        vertical-align: top;\n",
       "    }\n",
       "</style>\n",
       "<table border=\"1\" class=\"dataframe\">\n",
       "  <thead>\n",
       "    <tr style=\"text-align: right;\">\n",
       "      <th></th>\n",
       "      <th>act_id</th>\n",
       "      <th>ref_id</th>\n",
       "      <th>act_name</th>\n",
       "      <th>ref_name</th>\n",
       "      <th>geog</th>\n",
       "    </tr>\n",
       "  </thead>\n",
       "  <tbody>\n",
       "    <tr>\n",
       "      <th>0</th>\n",
       "      <td>27faf6b1-d2c2-4a4d-8db4-f9cb31b71087</td>\n",
       "      <td>4fcfb407-7879-42ad-9582-ab3fbfe5af10</td>\n",
       "      <td>market for electricity, medium voltage, alumin...</td>\n",
       "      <td>electricity, medium voltage, aluminium industry</td>\n",
       "      <td>IAI Area, North America, without Quebec</td>\n",
       "    </tr>\n",
       "    <tr>\n",
       "      <th>1</th>\n",
       "      <td>5f376bb5-c17c-4d1c-9a68-11a19045e5b5</td>\n",
       "      <td>637ee275-a239-4dcb-b084-abfa110dd65b</td>\n",
       "      <td>treatment of waste newspaper, municipal incine...</td>\n",
       "      <td>electricity, for reuse in municipal waste inci...</td>\n",
       "      <td>RoW</td>\n",
       "    </tr>\n",
       "    <tr>\n",
       "      <th>2</th>\n",
       "      <td>aa415f54-2081-490d-bff1-52e6cb2d0b42</td>\n",
       "      <td>45b641f7-e903-4fa3-94ec-84ca4c567c32</td>\n",
       "      <td>heat and power co-generation unit construction...</td>\n",
       "      <td>heat and power co-generation unit, organic Ran...</td>\n",
       "      <td>GLO</td>\n",
       "    </tr>\n",
       "    <tr>\n",
       "      <th>3</th>\n",
       "      <td>55819cd5-11d0-439f-be25-b3450b8b4be3</td>\n",
       "      <td>d1a3ebf3-e2d5-4da1-8090-664c9160aa33</td>\n",
       "      <td>market for 4-methyl-2-pentanone</td>\n",
       "      <td>4-methyl-2-pentanone</td>\n",
       "      <td>GLO</td>\n",
       "    </tr>\n",
       "    <tr>\n",
       "      <th>4</th>\n",
       "      <td>05988f8b-52ea-45ee-adc4-b9fc2cffda1d</td>\n",
       "      <td>f1d341ae-3435-4f11-b13c-793634d849a4</td>\n",
       "      <td>miscanthus rhizome production, for planting</td>\n",
       "      <td>miscanthus, chopped</td>\n",
       "      <td>RoW</td>\n",
       "    </tr>\n",
       "  </tbody>\n",
       "</table>\n",
       "</div>"
      ],
      "text/plain": [
       "                                 act_id                                ref_id  \\\n",
       "0  27faf6b1-d2c2-4a4d-8db4-f9cb31b71087  4fcfb407-7879-42ad-9582-ab3fbfe5af10   \n",
       "1  5f376bb5-c17c-4d1c-9a68-11a19045e5b5  637ee275-a239-4dcb-b084-abfa110dd65b   \n",
       "2  aa415f54-2081-490d-bff1-52e6cb2d0b42  45b641f7-e903-4fa3-94ec-84ca4c567c32   \n",
       "3  55819cd5-11d0-439f-be25-b3450b8b4be3  d1a3ebf3-e2d5-4da1-8090-664c9160aa33   \n",
       "4  05988f8b-52ea-45ee-adc4-b9fc2cffda1d  f1d341ae-3435-4f11-b13c-793634d849a4   \n",
       "\n",
       "                                            act_name  \\\n",
       "0  market for electricity, medium voltage, alumin...   \n",
       "1  treatment of waste newspaper, municipal incine...   \n",
       "2  heat and power co-generation unit construction...   \n",
       "3                    market for 4-methyl-2-pentanone   \n",
       "4        miscanthus rhizome production, for planting   \n",
       "\n",
       "                                            ref_name  \\\n",
       "0    electricity, medium voltage, aluminium industry   \n",
       "1  electricity, for reuse in municipal waste inci...   \n",
       "2  heat and power co-generation unit, organic Ran...   \n",
       "3                               4-methyl-2-pentanone   \n",
       "4                                miscanthus, chopped   \n",
       "\n",
       "                                      geog  \n",
       "0  IAI Area, North America, without Quebec  \n",
       "1                                      RoW  \n",
       "2                                      GLO  \n",
       "3                                      GLO  \n",
       "4                                      RoW  "
      ]
     },
     "execution_count": 12,
     "metadata": {},
     "output_type": "execute_result"
    }
   ],
   "source": [
    "idx.head(5)"
   ]
  },
  {
   "cell_type": "markdown",
   "metadata": {},
   "source": [
    "Now navigate to Elementary Exchanges file to build an index for the elemental exchanges. This time there is only one file."
   ]
  },
  {
   "cell_type": "code",
   "execution_count": 13,
   "metadata": {
    "collapsed": true
   },
   "outputs": [],
   "source": [
    "os.chdir(\"..\")\n",
    "os.chdir(\"MasterData\")"
   ]
  },
  {
   "cell_type": "code",
   "execution_count": 14,
   "metadata": {
    "collapsed": true
   },
   "outputs": [],
   "source": [
    "tree = ET.parse('ElementaryExchanges.xml')\n",
    "root = tree.getroot()\n",
    "colnames = ['elex_id', 'subc_id', 'elex_name', 'comp_name', 'subc_name']\n",
    "L = len(root.findall(\".//{http://www.EcoInvent.org/EcoSpold02}elementaryExchange\"))\n",
    "elemidx = pd.DataFrame(data=[], index=list(range(0,L)), columns=colnames)"
   ]
  },
  {
   "cell_type": "code",
   "execution_count": 15,
   "metadata": {
    "collapsed": true
   },
   "outputs": [],
   "source": [
    "x = [None]*L\n",
    "for i, elex in enumerate(root.iter('{http://www.EcoInvent.org/EcoSpold02}elementaryExchange')):\n",
    "    x[i] = elex.attrib['id']\n",
    "elemidx['elex_id'] = x\n",
    "for i, subc in enumerate(root.findall('.//{http://www.EcoInvent.org/EcoSpold02}elementaryExchange/{http://www.EcoInvent.org/EcoSpold02}compartment')):\n",
    "    x[i] = subc.attrib['subcompartmentId']\n",
    "elemidx['subc_id'] = x\n",
    "for i, lname in enumerate(root.iter('{http://www.EcoInvent.org/EcoSpold02}name')):\n",
    "    x[i] = lname.text\n",
    "elemidx['elex_name'] = x\n",
    "for i, comp in enumerate(root.findall('.//{http://www.EcoInvent.org/EcoSpold02}elementaryExchange/{http://www.EcoInvent.org/EcoSpold02}compartment/{http://www.EcoInvent.org/EcoSpold02}compartment')):\n",
    "    x[i] = comp.text\n",
    "elemidx['comp_name'] = x\n",
    "for i, sname in enumerate(root.iter('{http://www.EcoInvent.org/EcoSpold02}subcompartment')):\n",
    "    x[i] = sname.text\n",
    "elemidx['subc_name'] = x"
   ]
  },
  {
   "cell_type": "markdown",
   "metadata": {},
   "source": [
    "Check to make sure it looks right:"
   ]
  },
  {
   "cell_type": "code",
   "execution_count": 16,
   "metadata": {},
   "outputs": [
    {
     "data": {
      "text/html": [
       "<div>\n",
       "<style>\n",
       "    .dataframe thead tr:only-child th {\n",
       "        text-align: right;\n",
       "    }\n",
       "\n",
       "    .dataframe thead th {\n",
       "        text-align: left;\n",
       "    }\n",
       "\n",
       "    .dataframe tbody tr th {\n",
       "        vertical-align: top;\n",
       "    }\n",
       "</style>\n",
       "<table border=\"1\" class=\"dataframe\">\n",
       "  <thead>\n",
       "    <tr style=\"text-align: right;\">\n",
       "      <th></th>\n",
       "      <th>elex_id</th>\n",
       "      <th>subc_id</th>\n",
       "      <th>elex_name</th>\n",
       "      <th>comp_name</th>\n",
       "      <th>subc_name</th>\n",
       "    </tr>\n",
       "  </thead>\n",
       "  <tbody>\n",
       "    <tr>\n",
       "      <th>0</th>\n",
       "      <td>38a622c6-f086-4763-a952-7c6b3b1c42ba</td>\n",
       "      <td>e8d7772c-55ca-4dd7-b605-fee5ae764578</td>\n",
       "      <td>1,4-Butanediol</td>\n",
       "      <td>air</td>\n",
       "      <td>urban air close to ground</td>\n",
       "    </tr>\n",
       "    <tr>\n",
       "      <th>1</th>\n",
       "      <td>541a823c-0aad-4dc4-9123-d4af4647d942</td>\n",
       "      <td>e8d7772c-55ca-4dd7-b605-fee5ae764578</td>\n",
       "      <td>1-Pentanol</td>\n",
       "      <td>air</td>\n",
       "      <td>urban air close to ground</td>\n",
       "    </tr>\n",
       "    <tr>\n",
       "      <th>2</th>\n",
       "      <td>8cbaa905-41b0-4327-8403-bf1c8eb25429</td>\n",
       "      <td>e8d7772c-55ca-4dd7-b605-fee5ae764578</td>\n",
       "      <td>1-Pentene</td>\n",
       "      <td>air</td>\n",
       "      <td>urban air close to ground</td>\n",
       "    </tr>\n",
       "    <tr>\n",
       "      <th>3</th>\n",
       "      <td>f681eb3c-854a-4f78-bcfe-76dfbcf9df3c</td>\n",
       "      <td>e1bc9a16-5b6a-494f-98ef-49f461b1a11e</td>\n",
       "      <td>2,4-D</td>\n",
       "      <td>soil</td>\n",
       "      <td>agricultural</td>\n",
       "    </tr>\n",
       "    <tr>\n",
       "      <th>4</th>\n",
       "      <td>a0fec60d-3f74-48bf-a2d2-58c30fc13e53</td>\n",
       "      <td>e8d7772c-55ca-4dd7-b605-fee5ae764578</td>\n",
       "      <td>2-Aminopropanol</td>\n",
       "      <td>air</td>\n",
       "      <td>urban air close to ground</td>\n",
       "    </tr>\n",
       "  </tbody>\n",
       "</table>\n",
       "</div>"
      ],
      "text/plain": [
       "                                elex_id                               subc_id  \\\n",
       "0  38a622c6-f086-4763-a952-7c6b3b1c42ba  e8d7772c-55ca-4dd7-b605-fee5ae764578   \n",
       "1  541a823c-0aad-4dc4-9123-d4af4647d942  e8d7772c-55ca-4dd7-b605-fee5ae764578   \n",
       "2  8cbaa905-41b0-4327-8403-bf1c8eb25429  e8d7772c-55ca-4dd7-b605-fee5ae764578   \n",
       "3  f681eb3c-854a-4f78-bcfe-76dfbcf9df3c  e1bc9a16-5b6a-494f-98ef-49f461b1a11e   \n",
       "4  a0fec60d-3f74-48bf-a2d2-58c30fc13e53  e8d7772c-55ca-4dd7-b605-fee5ae764578   \n",
       "\n",
       "         elex_name comp_name                  subc_name  \n",
       "0   1,4-Butanediol       air  urban air close to ground  \n",
       "1       1-Pentanol       air  urban air close to ground  \n",
       "2        1-Pentene       air  urban air close to ground  \n",
       "3            2,4-D      soil               agricultural  \n",
       "4  2-Aminopropanol       air  urban air close to ground  "
      ]
     },
     "execution_count": 16,
     "metadata": {},
     "output_type": "execute_result"
    }
   ],
   "source": [
    "elemidx.head(5)"
   ]
  },
  {
   "cell_type": "markdown",
   "metadata": {},
   "source": [
    "We now have 2 index dataframes, elemidx for the elemental flows and idx for the technosphere inputs and outputs. Now we have to build the actual matrices: The A (technology) matrix, and the B (elementary flow) matrix. First create two matrices of zeros of the appropriate size."
   ]
  },
  {
   "cell_type": "code",
   "execution_count": 94,
   "metadata": {
    "collapsed": true
   },
   "outputs": [],
   "source": [
    "A = np.zeros((len(idx),len(idx)))\n",
    "B = np.zeros((len(elemidx),len(idx)))"
   ]
  },
  {
   "cell_type": "markdown",
   "metadata": {},
   "source": [
    "Now we need to parse each of the spold files to find the coefficients, and put them in the right place in the matrix based on their index numbers. First navigate back to the datasets folder."
   ]
  },
  {
   "cell_type": "code",
   "execution_count": 18,
   "metadata": {
    "collapsed": true
   },
   "outputs": [],
   "source": [
    "os.chdir(\"..\")\n",
    "os.chdir(\"datasets\")"
   ]
  },
  {
   "cell_type": "markdown",
   "metadata": {},
   "source": [
    "Next, open each file, parse the tree, identify the correct column in the matrix, find the coefficients and put them in. Off diagonal coefficients in the A matrix are multiplied by -1 as described in the EcoInvent documentation. This code is looping ~14,000 files, so don't be surprised if it takes an hour or more to run."
   ]
  },
  {
   "cell_type": "code",
   "execution_count": 95,
   "metadata": {
    "collapsed": true
   },
   "outputs": [],
   "source": [
    "for i in range(0, len(os.listdir())):\n",
    "    fname = os.listdir()[i]\n",
    "    base = os.path.splitext(fname)[0]\n",
    "    actid = base.split(\"_\")[0]\n",
    "    refid = base.split(\"_\")[1]\n",
    "    tree = ET.parse(os.listdir()[i])\n",
    "    root = tree.getroot()\n",
    "    for IE in root.findall(\".//{http://www.EcoInvent.org/EcoSpold02}intermediateExchange[@intermediateExchangeId='%s']/[{http://www.EcoInvent.org/EcoSpold02}outputGroup='0']\" % refid):\n",
    "        amt = float(IE.attrib['amount'])\n",
    "    q = idx.index.values[(idx['act_id']==actid) & (idx['ref_id']==refid)]  ##this is the column index for A and B matrices\n",
    "    q = q[0]  \n",
    "\n",
    "    ## create some temporary empty lists\n",
    "    k = []\n",
    "    l = []  \n",
    "    m = []\n",
    "    n = []\n",
    "    o = []\n",
    "    p = []\n",
    "    r = []\n",
    "    s = []\n",
    "    t = []\n",
    "    u = []\n",
    "    v = []\n",
    "    z = []\n",
    "    qc = []\n",
    "    qb = []\n",
    "    \n",
    "    ## populate the A matrix\n",
    "    for IE in root.findall(\".//{http://www.EcoInvent.org/EcoSpold02}intermediateExchange[@activityLinkId]/[{http://www.EcoInvent.org/EcoSpold02}inputGroup='5']\"):\n",
    "        if float(IE.attrib['amount'])==0:\n",
    "            continue\n",
    "        k.append(IE.attrib['intermediateExchangeId'])\n",
    "        l.append(IE.attrib['activityLinkId'])\n",
    "        w = idx.index.values[(idx['act_id']==l[-1]) & (idx['ref_id']==k[-1])] ## find index for the intermediate exchange\n",
    "        m.append(w[0])\n",
    "        n.append(-1*float(IE.attrib['amount'])) ## multiply coefficient by -1\n",
    "    if len(k)==0:\n",
    "        w=0\n",
    "        m=0\n",
    "        n=0\n",
    "    else: \n",
    "        qc = A[:,q]\n",
    "        np.put(qc, m, n)\n",
    "        A[:,q] = qc\n",
    "        A[q][q] = amt + A[q][q] ##Add the reference flow on the diagonal because in a few cases there are losses within the industry itself\n",
    "\n",
    "    ## populate the B matrix\n",
    "    # input group 4\n",
    "    for LX in root.findall(\".//{http://www.EcoInvent.org/EcoSpold02}elementaryExchange/[{http://www.EcoInvent.org/EcoSpold02}inputGroup='4']\"):\n",
    "        o.append(LX.attrib['elementaryExchangeId'])\n",
    "        p.append(float(LX.attrib['amount']))    \n",
    "    for LXc in root.findall(\".//{http://www.EcoInvent.org/EcoSpold02}elementaryExchange/[{http://www.EcoInvent.org/EcoSpold02}inputGroup='4']/{http://www.EcoInvent.org/EcoSpold02}compartment\"):       \n",
    "        r.append(LXc.attrib['subcompartmentId'])\n",
    "    for j, match in enumerate(o):\n",
    "        w = elemidx.index.values[(elemidx['elex_id']==o[j]) & (elemidx['subc_id']==r[j])]\n",
    "        s.append(w[0])\n",
    "    if len(o)==0:\n",
    "        w=0\n",
    "    #output group 4\n",
    "    for LX in root.findall(\".//{http://www.EcoInvent.org/EcoSpold02}elementaryExchange/[{http://www.EcoInvent.org/EcoSpold02}outputGroup='4']\"):\n",
    "        t.append(LX.attrib['elementaryExchangeId'])\n",
    "        u.append(float(LX.attrib['amount']))    \n",
    "    for LXc in root.findall(\".//{http://www.EcoInvent.org/EcoSpold02}elementaryExchange/[{http://www.EcoInvent.org/EcoSpold02}outputGroup='4']/{http://www.EcoInvent.org/EcoSpold02}compartment\"):       \n",
    "        v.append(LXc.attrib['subcompartmentId'])\n",
    "    for j, match in enumerate(t):\n",
    "        w = elemidx.index.values[(elemidx['elex_id']==t[j]) & (elemidx['subc_id']==v[j])]\n",
    "        z.append(w[0])\n",
    "    if len(t)==0:\n",
    "        w=0\n",
    "    else:\n",
    "        qb = B[:,q]\n",
    "        np.put(qb, s, p)\n",
    "        np.put(qb, z, u)\n",
    "        B[:,q] = qb\n",
    "\n",
    "    ## clear the temporary variables\n",
    "    del tree\n",
    "    del root\n",
    "    del actid\n",
    "    del refid\n",
    "    del k\n",
    "    del l\n",
    "    del m\n",
    "    del n\n",
    "    del w\n",
    "    del o \n",
    "    del p\n",
    "    del r\n",
    "    del s\n",
    "    del t\n",
    "    del u\n",
    "    del v\n",
    "    del z\n",
    "    del qc\n",
    "    del qb"
   ]
  },
  {
   "cell_type": "markdown",
   "metadata": {
    "collapsed": true
   },
   "source": [
    "Here is a sample calculation to determine the LCIA of one unit of clinker production in the RoW geography:"
   ]
  },
  {
   "cell_type": "code",
   "execution_count": 96,
   "metadata": {
    "collapsed": true
   },
   "outputs": [],
   "source": [
    "A_sp = sp.sparse.coo_matrix(A)\n",
    "B_sp = sp.sparse.coo_matrix(B)"
   ]
  },
  {
   "cell_type": "code",
   "execution_count": 97,
   "metadata": {
    "collapsed": true
   },
   "outputs": [],
   "source": [
    "f = np.zeros(len(A))"
   ]
  },
  {
   "cell_type": "code",
   "execution_count": 101,
   "metadata": {},
   "outputs": [
    {
     "data": {
      "text/html": [
       "<div>\n",
       "<style>\n",
       "    .dataframe thead tr:only-child th {\n",
       "        text-align: right;\n",
       "    }\n",
       "\n",
       "    .dataframe thead th {\n",
       "        text-align: left;\n",
       "    }\n",
       "\n",
       "    .dataframe tbody tr th {\n",
       "        vertical-align: top;\n",
       "    }\n",
       "</style>\n",
       "<table border=\"1\" class=\"dataframe\">\n",
       "  <thead>\n",
       "    <tr style=\"text-align: right;\">\n",
       "      <th></th>\n",
       "      <th>act_id</th>\n",
       "      <th>ref_id</th>\n",
       "      <th>act_name</th>\n",
       "      <th>ref_name</th>\n",
       "      <th>geog</th>\n",
       "    </tr>\n",
       "  </thead>\n",
       "  <tbody>\n",
       "    <tr>\n",
       "      <th>13767</th>\n",
       "      <td>ecf5ad24-a861-4ed0-abae-42ad5ba5a882</td>\n",
       "      <td>1f41586d-0d8a-4c7c-8473-dd8351bab538</td>\n",
       "      <td>clinker production</td>\n",
       "      <td>clinker</td>\n",
       "      <td>US</td>\n",
       "    </tr>\n",
       "  </tbody>\n",
       "</table>\n",
       "</div>"
      ],
      "text/plain": [
       "                                     act_id  \\\n",
       "13767  ecf5ad24-a861-4ed0-abae-42ad5ba5a882   \n",
       "\n",
       "                                     ref_id            act_name ref_name geog  \n",
       "13767  1f41586d-0d8a-4c7c-8473-dd8351bab538  clinker production  clinker   US  "
      ]
     },
     "execution_count": 101,
     "metadata": {},
     "output_type": "execute_result"
    }
   ],
   "source": [
    "i = idx.index[(idx['ref_name']=='clinker')&(idx['geog']=='US')]\n",
    "idx.iloc[i]"
   ]
  },
  {
   "cell_type": "code",
   "execution_count": 102,
   "metadata": {
    "collapsed": true
   },
   "outputs": [],
   "source": [
    "np.put(f,13767,1)"
   ]
  },
  {
   "cell_type": "code",
   "execution_count": null,
   "metadata": {
    "collapsed": true
   },
   "outputs": [],
   "source": [
    "s = sp.sparse.linalg.gmres(A_sp, f)"
   ]
  },
  {
   "cell_type": "code",
   "execution_count": null,
   "metadata": {
    "collapsed": true
   },
   "outputs": [],
   "source": [
    "g = np.matmul(B_sp, s)"
   ]
  },
  {
   "cell_type": "code",
   "execution_count": null,
   "metadata": {
    "collapsed": true
   },
   "outputs": [],
   "source": []
  }
 ],
 "metadata": {
  "kernelspec": {
   "display_name": "Python 3",
   "language": "python",
   "name": "python3"
  },
  "language_info": {
   "codemirror_mode": {
    "name": "ipython",
    "version": 3
   },
   "file_extension": ".py",
   "mimetype": "text/x-python",
   "name": "python",
   "nbconvert_exporter": "python",
   "pygments_lexer": "ipython3",
   "version": "3.6.2"
  }
 },
 "nbformat": 4,
 "nbformat_minor": 2
}
